{
 "cells": [
  {
   "cell_type": "code",
   "execution_count": 3,
   "metadata": {},
   "outputs": [
    {
     "data": {
      "text/plain": [
       "True"
      ]
     },
     "execution_count": 3,
     "metadata": {},
     "output_type": "execute_result"
    }
   ],
   "source": [
    "# La funcion is digit pregunta si el contenido dado son solo numeros. \n",
    "# Si esto es asi dara \"True\", si existe aunque sea un solo caracter diferentes de numero, dara \"False\".\n",
    "\n",
    "\"123\".isdigit()\n"
   ]
  },
  {
   "cell_type": "code",
   "execution_count": 3,
   "metadata": {},
   "outputs": [
    {
     "data": {
      "text/plain": [
       "False"
      ]
     },
     "execution_count": 3,
     "metadata": {},
     "output_type": "execute_result"
    }
   ],
   "source": [
    "\"1a2b3c\".isdigit()\n"
   ]
  },
  {
   "cell_type": "code",
   "execution_count": 5,
   "metadata": {},
   "outputs": [
    {
     "name": "stdout",
     "output_type": "stream",
     "text": [
      "Teclee su nombre aqui: abc\n"
     ]
    },
    {
     "data": {
      "text/plain": [
       "False"
      ]
     },
     "execution_count": 5,
     "metadata": {},
     "output_type": "execute_result"
    }
   ],
   "source": [
    "nombre = input(\"Teclee su nombre aqui: \")\n",
    "nombre.isdigit()"
   ]
  },
  {
   "cell_type": "code",
   "execution_count": 9,
   "metadata": {},
   "outputs": [
    {
     "name": "stdout",
     "output_type": "stream",
     "text": [
      "teclee su nombre aqui: 123\n",
      "True\n",
      "Esto es real hijo\n"
     ]
    }
   ],
   "source": [
    "nombre = input(\"teclee su nombre aqui: \")\n",
    "abc = nombre.isdigit()\n",
    "print(abc)\n",
    "\n",
    "if abc == True:\n",
    "    print(\"Esto es real hijo\")\n",
    "if abc == False:\n",
    "    print ==(\"vuelva a intentarlo carnal\")"
   ]
  },
  {
   "cell_type": "code",
   "execution_count": 38,
   "metadata": {},
   "outputs": [
    {
     "name": "stdout",
     "output_type": "stream",
     "text": [
      "Nombre del Integrante de Grupo: 12\n",
      "Nombre erroneo del Integrante de Grupo, escribalo otra vez: 56\n",
      "Nombre erroneo del Integrante de Grupo, escribalo otra vez: luis\n"
     ]
    }
   ],
   "source": [
    "nombre = input(\"Nombre del Integrante de Grupo: \")\n",
    "abc = nombre.isdigit()\n",
    "\n",
    "while abc == True:\n",
    "    nombre = input(\"Nombre erroneo del Integrante de Grupo, escribalo otra vez: \")\n",
    "    abc = nombre.isdigit()\n"
   ]
  },
  {
   "cell_type": "code",
   "execution_count": 45,
   "metadata": {},
   "outputs": [
    {
     "name": "stdout",
     "output_type": "stream",
     "text": [
      "Nombre del Integrante de Grupo: Luis\n"
     ]
    }
   ],
   "source": [
    "I1=['Mafe']\n",
    "I2=['Paula']\n",
    "I3=['Luis']\n",
    "\n",
    "nombre = input(\"Nombre del Integrante de Grupo: \")\n",
    "abc = nombre.isdigit()\n",
    "\n",
    "while abc == True:\n",
    "    nombre = input(\"Nombre erroneo del Integrante de Grupo, escribalo otra vez: \")\n",
    "    abc = nombre.isdigit()\n",
    "\n",
    "integrante = nombre\n",
    "\n",
    "if integrante == I3:\n",
    "    print(\"yes\")"
   ]
  },
  {
   "cell_type": "code",
   "execution_count": 44,
   "metadata": {},
   "outputs": [
    {
     "name": "stdout",
     "output_type": "stream",
     "text": [
      "Ingrese su edad Persona Uno:  12\n"
     ]
    },
    {
     "ename": "TypeError",
     "evalue": "'str' object is not callable",
     "output_type": "error",
     "traceback": [
      "\u001b[0;31m---------------------------------------------------------------------------\u001b[0m",
      "\u001b[0;31mTypeError\u001b[0m                                 Traceback (most recent call last)",
      "\u001b[0;32m<ipython-input-44-b2ee2c4e49cc>\u001b[0m in \u001b[0;36m<module>\u001b[0;34m\u001b[0m\n\u001b[1;32m      1\u001b[0m \u001b[0medad1\u001b[0m \u001b[0;34m=\u001b[0m \u001b[0minput\u001b[0m\u001b[0;34m(\u001b[0m\u001b[0;34m\"Ingrese su edad Persona Uno:  \"\u001b[0m\u001b[0;34m)\u001b[0m\u001b[0;34m\u001b[0m\u001b[0;34m\u001b[0m\u001b[0m\n\u001b[1;32m      2\u001b[0m \u001b[0mabcc\u001b[0m \u001b[0;34m=\u001b[0m \u001b[0medad1\u001b[0m\u001b[0;34m.\u001b[0m\u001b[0misdigit\u001b[0m\u001b[0;34m(\u001b[0m\u001b[0;34m)\u001b[0m\u001b[0;34m\u001b[0m\u001b[0;34m\u001b[0m\u001b[0m\n\u001b[0;32m----> 3\u001b[0;31m \u001b[0mprint\u001b[0m\u001b[0;34m(\u001b[0m\u001b[0mabcc\u001b[0m\u001b[0;34m)\u001b[0m\u001b[0;34m\u001b[0m\u001b[0;34m\u001b[0m\u001b[0m\n\u001b[0m",
      "\u001b[0;31mTypeError\u001b[0m: 'str' object is not callable"
     ]
    }
   ],
   "source": []
  },
  {
   "cell_type": "code",
   "execution_count": null,
   "metadata": {},
   "outputs": [],
   "source": []
  }
 ],
 "metadata": {
  "kernelspec": {
   "display_name": "Python 3",
   "language": "python",
   "name": "python3"
  },
  "language_info": {
   "codemirror_mode": {
    "name": "ipython",
    "version": 3
   },
   "file_extension": ".py",
   "mimetype": "text/x-python",
   "name": "python",
   "nbconvert_exporter": "python",
   "pygments_lexer": "ipython3",
   "version": "3.8.5"
  }
 },
 "nbformat": 4,
 "nbformat_minor": 2
}
