{
 "cells": [
  {
   "cell_type": "markdown",
   "metadata": {},
   "source": [
    "# Constantes"
   ]
  },
  {
   "cell_type": "code",
   "execution_count": 1,
   "metadata": {},
   "outputs": [
    {
     "name": "stdout",
     "output_type": "stream",
     "text": [
      "123\n",
      "98.6\n",
      "Hola Mundo\n",
      "Hola Mundo\n"
     ]
    }
   ],
   "source": [
    "print(123)\n",
    "print(98.6)\n",
    "print('Hola Mundo')\n",
    "print(\"Hola Mundo\")"
   ]
  },
  {
   "cell_type": "markdown",
   "metadata": {},
   "source": [
    "# Variables"
   ]
  },
  {
   "cell_type": "code",
   "execution_count": 2,
   "metadata": {},
   "outputs": [
    {
     "name": "stdout",
     "output_type": "stream",
     "text": [
      "12.2\n",
      "14\n",
      "100\n"
     ]
    }
   ],
   "source": [
    "x=12.2\n",
    "y=14\n",
    "print(x)\n",
    "print(y)\n",
    "x=100\n",
    "print(x)"
   ]
  },
  {
   "cell_type": "markdown",
   "metadata": {},
   "source": [
    "# Literales Numéricos"
   ]
  },
  {
   "cell_type": "code",
   "execution_count": 4,
   "metadata": {},
   "outputs": [
    {
     "name": "stdout",
     "output_type": "stream",
     "text": [
      "10 100 200 300\n",
      "10.5 150.0\n",
      "3.14j 3.14 0.0\n"
     ]
    },
    {
     "data": {
      "text/plain": [
       "7"
      ]
     },
     "execution_count": 4,
     "metadata": {},
     "output_type": "execute_result"
    }
   ],
   "source": [
    "a = 0b1010 #Binary Literals\n",
    "b = 100 #Decimal Literal \n",
    "c = 0o310 #Octal Literal\n",
    "d = 0x12c #Hexadecimal Literal\n",
    "\n",
    "#Float Literal\n",
    "float_1 = 10.5 \n",
    "float_2 = 1.5e2\n",
    "\n",
    "#Complex Literal \n",
    "x = 3.14j\n",
    "\n",
    "print(a, b, c, d)\n",
    "print(float_1, float_2)\n",
    "print(x, x.imag, x.real)\n",
    "\n",
    "b.bit_length()"
   ]
  },
  {
   "cell_type": "markdown",
   "metadata": {},
   "source": [
    "# Enunciados de Asignacion y Operaciones Numericas"
   ]
  },
  {
   "cell_type": "code",
   "execution_count": null,
   "metadata": {},
   "outputs": [],
   "source": [
    "x=3.9*x*(1-x)\n",
    "\n",
    "#suma\n",
    "xx=2\n",
    "xx=xx+2\n",
    "print(xx)\n",
    "\n",
    "#multiplicacion\n",
    "yy=440*12\n",
    "print(yy)\n",
    "\n",
    "#division\n",
    "zz=yy/1000\n",
    "print(zz)\n",
    "\n",
    "#resto o residuo\n",
    "jj=23\n",
    "kk=jj%5\n",
    "print(kk)\n",
    "\n",
    "#Potencia\n",
    "print(4**3)"
   ]
  },
  {
   "cell_type": "markdown",
   "metadata": {},
   "source": [
    "# Type o Tipo de Variables"
   ]
  },
  {
   "cell_type": "code",
   "execution_count": 7,
   "metadata": {},
   "outputs": [
    {
     "name": "stdout",
     "output_type": "stream",
     "text": [
      "5 es de tipo <class 'int'>\n",
      "2.0 es de tipo <class 'float'>\n",
      "(1+2j) es un número complejo? True\n"
     ]
    }
   ],
   "source": [
    "# Integers, floating point numbers and complex numbers falls under Python numbers category. \n",
    "# They are defined as int, float and complex class in Python.\n",
    "# We can use the type() function to know which class a variable or a value belongs to \n",
    "# The isinstance() function to check if an object belongs to a particular class.\n",
    "\n",
    "a = 5\n",
    "print(a, \"es de tipo\", type(a))\n",
    "\n",
    "a = 2.0\n",
    "print(a, \"es de tipo\", type(a))\n",
    "\n",
    "a = 1+2j\n",
    "print(a, \"es un número complejo?\", isinstance(1+2j,complex))"
   ]
  },
  {
   "cell_type": "markdown",
   "metadata": {},
   "source": [
    "# Conversiones de Type (Tipo)"
   ]
  },
  {
   "cell_type": "code",
   "execution_count": 10,
   "metadata": {
    "scrolled": true
   },
   "outputs": [
    {
     "name": "stdout",
     "output_type": "stream",
     "text": [
      "199.0\n",
      "42\n",
      "42.0\n"
     ]
    }
   ],
   "source": [
    "print(float(99)+100)\n",
    "i=42\n",
    "print(i)\n",
    "type(i)\n",
    "\n",
    "f=float(i)\n",
    "print(f)"
   ]
  },
  {
   "cell_type": "markdown",
   "metadata": {},
   "source": [
    "# Input (Entrada) del Usuario"
   ]
  },
  {
   "cell_type": "code",
   "execution_count": 11,
   "metadata": {},
   "outputs": [
    {
     "name": "stdout",
     "output_type": "stream",
     "text": [
      "Quién es usted Camilo\n",
      "Bienvenido Camilo\n"
     ]
    }
   ],
   "source": [
    "nam=input('Quién es usted ')\n",
    "print('Bienvenido', nam)"
   ]
  },
  {
   "cell_type": "markdown",
   "metadata": {},
   "source": [
    "# Pasos Secuenciales"
   ]
  },
  {
   "cell_type": "code",
   "execution_count": null,
   "metadata": {},
   "outputs": [],
   "source": [
    "x = 2\n",
    "print(x)\n",
    "x = x + 2\n",
    "print(x)"
   ]
  },
  {
   "cell_type": "markdown",
   "metadata": {},
   "source": [
    "# Pasos Condicionales"
   ]
  },
  {
   "cell_type": "code",
   "execution_count": 15,
   "metadata": {},
   "outputs": [
    {
     "name": "stdout",
     "output_type": "stream",
     "text": [
      "Más pequeño\n",
      "Finis\n"
     ]
    }
   ],
   "source": [
    "x = 5\n",
    "if x < 10:\n",
    "    print('Más pequeño')\n",
    "if x > 20:\n",
    "    print('Más grande')\n",
    "print('Finis')"
   ]
  },
  {
   "cell_type": "markdown",
   "metadata": {},
   "source": [
    "# Operadores de Comparación"
   ]
  },
  {
   "cell_type": "code",
   "execution_count": 16,
   "metadata": {},
   "outputs": [
    {
     "name": "stdout",
     "output_type": "stream",
     "text": [
      "Igual a 5\n",
      "Mayor que 4\n",
      "Mayor que o Igual a 5\n",
      "Menor que 6\n",
      "Menor que o Igual a 5\n",
      "No igual a 6\n"
     ]
    }
   ],
   "source": [
    "x = 5\n",
    "if x == 5 :\n",
    "    print('Igual a 5')\n",
    "if x > 4 :\n",
    "    print('Mayor que 4')\n",
    "if x >= 5 :\n",
    "    print('Mayor que o Igual a 5')\n",
    "if x < 6 : print('Menor que 6')\n",
    "if x <= 5 :\n",
    "    print('Menor que o Igual a 5')\n",
    "if x != 6 :\n",
    "    print('No igual a 6')"
   ]
  },
  {
   "cell_type": "markdown",
   "metadata": {},
   "source": [
    "# Decisiones Anidadas"
   ]
  },
  {
   "cell_type": "code",
   "execution_count": 17,
   "metadata": {},
   "outputs": [
    {
     "name": "stdout",
     "output_type": "stream",
     "text": [
      "Más de 1\n",
      "Menos de 100\n",
      "Todo Terminado\n"
     ]
    }
   ],
   "source": [
    "x = 42\n",
    "if x > 1 :\n",
    "    print('Más de 1')\n",
    "    if x < 100 :\n",
    "        print('Menos de 100')\n",
    "print('Todo Terminado')"
   ]
  },
  {
   "cell_type": "markdown",
   "metadata": {},
   "source": [
    "# Decisiones Bidireccionales con else:"
   ]
  },
  {
   "cell_type": "code",
   "execution_count": 18,
   "metadata": {},
   "outputs": [
    {
     "name": "stdout",
     "output_type": "stream",
     "text": [
      "Más grande\n",
      "Todo Terminado\n"
     ]
    }
   ],
   "source": [
    "x = 4\n",
    "if x > 2 :\n",
    "    print('Más grande')\n",
    "else:\n",
    "    print('Más pequeño')\n",
    "print('Todo Terminado')"
   ]
  },
  {
   "cell_type": "markdown",
   "metadata": {},
   "source": [
    "# Multidireccional"
   ]
  },
  {
   "cell_type": "code",
   "execution_count": 19,
   "metadata": {},
   "outputs": [
    {
     "name": "stdout",
     "output_type": "stream",
     "text": [
      "Pequeño\n",
      "Todo terminado\n"
     ]
    }
   ],
   "source": [
    "x=0\n",
    "if x < 2 :\n",
    "    print('Pequeño')\n",
    "elif x < 10 :\n",
    "    print('Mediano')\n",
    "else:\n",
    "    print('ENORME')\n",
    "print('Todo terminado')"
   ]
  },
  {
   "cell_type": "markdown",
   "metadata": {},
   "source": [
    "# Estructura try / except\n",
    "###### Usted rodea una sección peligrosa del código con try y except\n",
    "###### Si el código en try funciona – except es omitido\n",
    "###### Si el código en try falla – pasa a la sección except"
   ]
  },
  {
   "cell_type": "code",
   "execution_count": 22,
   "metadata": {},
   "outputs": [
    {
     "name": "stdout",
     "output_type": "stream",
     "text": [
      "Ingresar un número:0\n",
      "No es un número\n"
     ]
    }
   ],
   "source": [
    "rawstr= input('Ingresar un número:')\n",
    "try:\n",
    "    ival = int(rawstr)\n",
    "except:\n",
    "    ival = -1\n",
    "if ival> 0 :\n",
    "    print('Buen trabajo')\n",
    "else:\n",
    "    print('No es un número')"
   ]
  },
  {
   "cell_type": "markdown",
   "metadata": {},
   "source": [
    "# Pasos Repetidos (Bucles indefinidos / while)"
   ]
  },
  {
   "cell_type": "code",
   "execution_count": 23,
   "metadata": {},
   "outputs": [
    {
     "name": "stdout",
     "output_type": "stream",
     "text": [
      "5\n",
      "4\n",
      "3\n",
      "2\n",
      "1\n",
      "Despegue\n"
     ]
    }
   ],
   "source": [
    "n = 5\n",
    "while n > 0 :\n",
    "    print(n)\n",
    "    n = n - 1\n",
    "print('Despegue')"
   ]
  },
  {
   "cell_type": "code",
   "execution_count": 24,
   "metadata": {},
   "outputs": [
    {
     "name": "stdout",
     "output_type": "stream",
     "text": [
      "5\n",
      "4\n",
      "3\n",
      "2\n",
      "1\n",
      "Despegue\n"
     ]
    }
   ],
   "source": [
    "#Bucle con tiempo de espera\n",
    "\n",
    "import time\n",
    "n = 5\n",
    "while n > 0 :\n",
    "    print(n)\n",
    "    time.sleep(1)\n",
    "    n = n - 1\n",
    "print('Despegue')"
   ]
  },
  {
   "cell_type": "code",
   "execution_count": 25,
   "metadata": {},
   "outputs": [
    {
     "name": "stdout",
     "output_type": "stream",
     "text": [
      "> uno\n",
      "uno\n",
      "> fin\n",
      "fin\n",
      "> terminado\n",
      "Fin\n"
     ]
    }
   ],
   "source": [
    "#Romper un bucle\n",
    "while True:\n",
    "    línea = input('> ')\n",
    "    if línea == 'terminado':\n",
    "        break\n",
    "    print(línea)\n",
    "print('Fin')"
   ]
  },
  {
   "cell_type": "code",
   "execution_count": 26,
   "metadata": {},
   "outputs": [
    {
     "name": "stdout",
     "output_type": "stream",
     "text": [
      "> hola\n",
      "hola\n",
      "> #a\n",
      "> terminado\n",
      "Fin\n"
     ]
    }
   ],
   "source": [
    "#Finalizar una Iteración con Continue\n",
    "while True:\n",
    "    línea = input('> ')\n",
    "    if línea[0] == '#' :\n",
    "        continue\n",
    "    if línea == 'terminado' :\n",
    "        break\n",
    "    print(línea)\n",
    "print('Fin')"
   ]
  },
  {
   "cell_type": "markdown",
   "metadata": {},
   "source": [
    "# Bucles Definidos / ciclo for"
   ]
  },
  {
   "cell_type": "code",
   "execution_count": 27,
   "metadata": {},
   "outputs": [
    {
     "name": "stdout",
     "output_type": "stream",
     "text": [
      "5\n",
      "4\n",
      "3\n",
      "2\n",
      "1\n",
      "Despegue\n"
     ]
    }
   ],
   "source": [
    "#Bucle Definido Simple\n",
    "for i in [5, 4, 3, 2, 1] :\n",
    "    print(i)\n",
    "print('Despegue')"
   ]
  },
  {
   "cell_type": "code",
   "execution_count": 28,
   "metadata": {},
   "outputs": [
    {
     "name": "stdout",
     "output_type": "stream",
     "text": [
      "5\n",
      "4\n",
      "3\n",
      "2\n",
      "1\n",
      "Despegue\n"
     ]
    }
   ],
   "source": [
    "#Bucle Definido Simple con tiempo de espera\n",
    "\n",
    "import time\n",
    "for i in [5, 4, 3, 2, 1] :\n",
    "    print(i)\n",
    "    time.sleep(1)\n",
    "print('Despegue')"
   ]
  },
  {
   "cell_type": "code",
   "execution_count": 29,
   "metadata": {},
   "outputs": [
    {
     "name": "stdout",
     "output_type": "stream",
     "text": [
      "Feliz año nuevo: Joseph\n",
      "Feliz año nuevo: Glenn\n",
      "Feliz año nuevo: Sally\n",
      "Terminado\n"
     ]
    }
   ],
   "source": [
    "#Bucle Definido con Cadenas\n",
    "amigos = ['Joseph', 'Glenn', 'Sally']\n",
    "for amigo in amigos :\n",
    "    print('Feliz año nuevo:', amigo)\n",
    "print('Terminado')"
   ]
  },
  {
   "cell_type": "code",
   "execution_count": 30,
   "metadata": {},
   "outputs": [
    {
     "name": "stdout",
     "output_type": "stream",
     "text": [
      "I like pop\n",
      "I like rock\n",
      "I like jazz\n"
     ]
    }
   ],
   "source": [
    "# Program to iterate through a list using indexing\n",
    "\n",
    "genre = ['pop', 'rock', 'jazz']\n",
    "\n",
    "# iterate over the list using index\n",
    "for i in range(len(genre)):\n",
    "\tprint(\"I like\", genre[i])"
   ]
  },
  {
   "cell_type": "markdown",
   "metadata": {},
   "source": [
    "# Creando Bucles “inteligentes”"
   ]
  },
  {
   "cell_type": "code",
   "execution_count": 31,
   "metadata": {},
   "outputs": [
    {
     "name": "stdout",
     "output_type": "stream",
     "text": [
      "Antes -1\n",
      "9 9\n",
      "41 41\n",
      "41 12\n",
      "41 3\n",
      "74 74\n",
      "74 15\n",
      "Después 74\n"
     ]
    }
   ],
   "source": [
    "# Ejemplo para encontrar el mayor valor\n",
    "más_grande_hasta_ahora = -1\n",
    "print('Antes', más_grande_hasta_ahora)\n",
    "for the_num in[9, 41, 12, 3, 74, 15] :\n",
    "    if the_num > más_grande_hasta_ahora:\n",
    "        más_grande_hasta_ahora = the_num\n",
    "    print(más_grande_hasta_ahora, the_num)\n",
    "print('Después', más_grande_hasta_ahora)"
   ]
  },
  {
   "cell_type": "code",
   "execution_count": null,
   "metadata": {},
   "outputs": [],
   "source": []
  },
  {
   "cell_type": "code",
   "execution_count": null,
   "metadata": {},
   "outputs": [],
   "source": []
  },
  {
   "cell_type": "code",
   "execution_count": null,
   "metadata": {},
   "outputs": [],
   "source": []
  }
 ],
 "metadata": {
  "kernelspec": {
   "display_name": "Python 3",
   "language": "python",
   "name": "python3"
  },
  "language_info": {
   "codemirror_mode": {
    "name": "ipython",
    "version": 3
   },
   "file_extension": ".py",
   "mimetype": "text/x-python",
   "name": "python",
   "nbconvert_exporter": "python",
   "pygments_lexer": "ipython3",
   "version": "3.7.3"
  }
 },
 "nbformat": 4,
 "nbformat_minor": 2
}
