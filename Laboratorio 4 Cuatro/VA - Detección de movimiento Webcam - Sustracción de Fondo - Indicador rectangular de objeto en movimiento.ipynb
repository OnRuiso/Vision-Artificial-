{
 "cells": [
  {
   "cell_type": "markdown",
   "metadata": {},
   "source": [
    "# TRABAJO:\n",
    "\n",
    "### Realice un programa que capture un video y desarrolle un procedimiento de detección de movimiento de un objeto por sustracción de fondo e identifique el objeto en movimiento con un rectángulo ubicado sobre el mismo en todo momento."
   ]
  },
  {
   "cell_type": "code",
   "execution_count": null,
   "metadata": {},
   "outputs": [],
   "source": [
    "import cv2\n",
    "import time\n",
    "import numpy as np\n",
    "from matplotlib import colors\n",
    "from matplotlib import pyplot as plt\n",
    "\n",
    "#-------------------------------------------------------------------------------------------------------------------\n",
    "\n",
    "#camara = cv2.VideoCapture(0) #Captura de video con la camara del computador\n",
    "camara = cv2.VideoCapture(1) #Captura de video con la camara del Web LifeCam VX-1000\n",
    "#camara = cv2.VideoCapture('stres.mp4') #Video ya existente\n",
    "\n",
    "fondo = None #Obtenemos el primer Frame como \"VACIO\" obteniendo asi el fondo con el que comparar\n",
    "#-------------------------------------------------------------------------------------------------------------------\n",
    "while True:\n",
    "    #-------------------------------------------------------------------------------------------------------------------\n",
    "    (grabbed, frame) = camara.read() #leemos con la camara en la variable frame y grabbed\n",
    "    \n",
    "    if not grabbed:#Si puse un video , cuando llegue al final cerrara el while\n",
    "        break\n",
    "    #-------------------------------------------------------------------------------------------------------------------\n",
    "    gris = cv2.cvtColor(frame, cv2.COLOR_BGR2GRAY) #Con esto convertimos el frame del video a escala de grises\n",
    "    gris = cv2.GaussianBlur(gris, (21, 21), 0) #Asemos un suavizado a frame en grises con GaussianBlur\n",
    "    \n",
    "    if fondo is None: #Si no capturamos el fondo ( primer frame capturado) , este sera ahora la mascara gris\n",
    "        fondo = gris\n",
    "        continue\n",
    "    #-------------------------------------------------------------------------------------------------------------------\n",
    "    resta = cv2.absdiff(fondo, gris) #hago la resta entre el primer frame obtenido (fondo) y la mascara de grises\n",
    "    umbral = cv2.threshold(resta, 25, 255, cv2.THRESH_BINARY)[1]# Aplicamos un umbral ()\n",
    "    umbral = cv2.dilate(umbral, None, iterations=2)# Ampliamos el umbral para tapar agujeros\n",
    "    contornosimg = umbral.copy() #hacmeos una copia del umbral para ahora obtener los contornos\n",
    "    #-------------------------------------------------------------------------------------------------------------------\n",
    "    contornos,_ = cv2.findContours(contornosimg,cv2.RETR_EXTERNAL,cv2.CHAIN_APPROX_SIMPLE) # buscamos el contorno de la imagen findContours\n",
    "\n",
    "    for c in contornos: # tomamos cada uno de los contornos\n",
    "        if cv2.contourArea(c) < 20: #eliminamos solo los contornos por debajo de 5 pixeles\n",
    "            continue #continua el programa en secuencia\n",
    "        (x, y, w, h) = cv2.boundingRect(c) # obtenemos las dimenciones del Bpunding box\n",
    "        cv2.rectangle(frame, (x, y), (x + w, y + h), (0, 255, 0), 2)#dibujamos un rectanculo en la capa frame bajo las coordenadas puestas\n",
    "    #-------------------------------------------------------------------------------------------------------------------   \n",
    "    cv2.imshow(\"Camara\", frame) #mostramos el video de la camara\n",
    "    cv2.imshow(\"Umbral\", umbral)#mostramos la mascra del umbral\n",
    "    cv2.imshow(\"Resta\", resta)#mostramos la mascara de la resta\n",
    "    cv2.imshow(\"Contorno\", contornosimg)#mostramos los contornos\n",
    "    #-------------------------------------------------------------------------------------------------------------------   \n",
    "    tecla = cv2.waitKey(27) & 0xFF\n",
    "    if tecla == 27: #para salir del while\n",
    "        break\n",
    "#-------------------------------------------------------------------------------------------------------------------\n",
    "camara.release()    #libero la camara para otros programas\n",
    "cv2.destroyAllWindows() #cierro las ventanas abiertas"
   ]
  }
 ],
 "metadata": {
  "kernelspec": {
   "display_name": "Python 3",
   "language": "python",
   "name": "python3"
  },
  "language_info": {
   "codemirror_mode": {
    "name": "ipython",
    "version": 3
   },
   "file_extension": ".py",
   "mimetype": "text/x-python",
   "name": "python",
   "nbconvert_exporter": "python",
   "pygments_lexer": "ipython3",
   "version": "3.8.5"
  }
 },
 "nbformat": 4,
 "nbformat_minor": 4
}
