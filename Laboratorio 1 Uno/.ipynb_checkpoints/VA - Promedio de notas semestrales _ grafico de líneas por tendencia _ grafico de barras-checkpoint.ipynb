{
 "cells": [
  {
   "cell_type": "code",
   "execution_count": 7,
   "metadata": {
    "scrolled": false
   },
   "outputs": [
    {
     "name": "stdout",
     "output_type": "stream",
     "text": [
      "Ingrese el nombre del integrante: \n",
      "1mafe\n",
      "Ingrese el número de semestres cursados por:\n",
      "mafe5\n",
      "Ingrese el Promedio del semestre: \n",
      "15\n",
      "Ingrese el Promedio del semestre: \n",
      "22.3\n",
      "Ingrese el Promedio del semestre: \n",
      "34\n",
      "Ingrese el Promedio del semestre: \n",
      "44\n",
      "Ingrese el Promedio del semestre: \n",
      "55\n",
      "El promedio acumulado de  mafe es: \n",
      "4.0600000000000005\n",
      "Ingrese el nombre del integrante: \n",
      "2luis\n",
      "Ingrese el número de semestres cursados por:\n",
      "luis4\n",
      "Ingrese el Promedio del semestre: \n",
      "12.3\n",
      "Ingrese el Promedio del semestre: \n",
      "25\n",
      "Ingrese el Promedio del semestre: \n",
      "34.2\n",
      "Ingrese el Promedio del semestre: \n",
      "41\n",
      "El promedio acumulado de  luis es: \n",
      "3.125\n",
      "Ingrese el nombre del integrante: \n",
      "3paula\n",
      "Ingrese el número de semestres cursados por:\n",
      "paula6\n",
      "Ingrese el Promedio del semestre: \n",
      "13.2\n",
      "Ingrese el Promedio del semestre: \n",
      "22\n",
      "Ingrese el Promedio del semestre: \n",
      "31\n",
      "Ingrese el Promedio del semestre: \n",
      "44\n",
      "Ingrese el Promedio del semestre: \n",
      "55\n",
      "Ingrese el Promedio del semestre: \n",
      "66\n",
      "El número ingresado no es valido, intente de nuevo\n",
      "Ingrese el Promedio del semestre: \n",
      "65\n",
      "El promedio acumulado de  paula es: \n",
      "3.3666666666666667\n"
     ]
    },
    {
     "data": {
      "image/png": "[encoded data removed]",
      "text/plain": [
       "<Figure size 720x288 with 1 Axes>"
      ]
     },
     "metadata": {
      "needs_background": "light"
     },
     "output_type": "display_data"
    },
    {
     "data": {
      "image/png": "[encoded data removed]",
      "text/plain": [
       "<Figure size 864x360 with 3 Axes>"
      ]
     },
     "metadata": {
      "needs_background": "light"
     },
     "output_type": "display_data"
    },
    {
     "data": {
      "text/plain": [
       "<BarContainer object of 3 artists>"
      ]
     },
     "execution_count": 7,
     "metadata": {},
     "output_type": "execute_result"
    },
    {
     "data": {
      "image/png": "[encoded data removed]",
      "text/plain": [
       "<Figure size 648x360 with 1 Axes>"
      ]
     },
     "metadata": {
      "needs_background": "light"
     },
     "output_type": "display_data"
    }
   ],
   "source": [
    "import matplotlib.pyplot as plt\n",
    "import numpy as np\n",
    "\n",
    "#integrantes=input('Ingrese el número de integrantes de su equipo de laboratorio: ')\n",
    "#try:\n",
    "#    ival = int(integrantes)\n",
    "#except:\n",
    "#    ival = -1\n",
    "#while ival < 0 :\n",
    "#    print('El número ingresado no es valido, intentelo de nuevo')\n",
    "#    integrantes=input('Ingrese el número de integrantes de su equipo de laboratorio: ')\n",
    "#    try:\n",
    "#        ival = int(integrantes)\n",
    "#    except:\n",
    "#        ival = -1\n",
    "        \n",
    "#inte=int(integrantes)\n",
    "nombre=[]\n",
    "semestre=[]\n",
    "notas=[]\n",
    "s=0\n",
    "notasfloat=[]\n",
    "promedioacumulado=[]\n",
    "for i in range(3) : \n",
    "    print('Ingrese el nombre del integrante: ')\n",
    "    nombre.append(input(i+1))\n",
    "    \n",
    "    print('Ingrese el número de semestres cursados por:')\n",
    "    semestre.append(input(nombre[i] ))\n",
    "    try:\n",
    "        ss= int(semestre[i])\n",
    "    except:\n",
    "        ss= -1\n",
    "    while ss < 0 or ss>11:\n",
    "        print('El número ingresado no es valido, intente de nuevo')\n",
    "        print('Ingrese el número de semestres cursados por:')\n",
    "        semestre.insert(i,(input(nombre[i])))\n",
    "        semestre.pop()     \n",
    "        try:\n",
    "            ss= int(semestre[i])\n",
    "        except:\n",
    "            ss= -1\n",
    "    semest=int(semestre[i])\n",
    "    suma=0\n",
    "    promedio=0\n",
    "    for k in range (semest):\n",
    "        print('Ingrese el Promedio del semestre: ')\n",
    "        notas.insert(k,(input(k+1)))\n",
    "        try:\n",
    "            nt= float(notas[k])\n",
    "        except:\n",
    "            nt= -1\n",
    "        while nt < 0 or nt>5:\n",
    "            print('El número ingresado no es valido, intente de nuevo')\n",
    "            print('Ingrese el Promedio del semestre: ')\n",
    "            notas.insert(k,(input(k+1)))\n",
    "            try:\n",
    "                nt= float(notas[k])\n",
    "            except:\n",
    "                nt= -1\n",
    "            notas.remove(notas[k+1]) \n",
    "        nts=float(notas[k])\n",
    "        notasfloat.append(nts)\n",
    "        suma=suma+nts\n",
    "        \n",
    "    print('El promedio acumulado de ',nombre[i], 'es: ')\n",
    "    promedio=suma/semest\n",
    "    promedioacumulado.append(promedio)\n",
    "    print(promedio)\n",
    "        \n",
    "s0=int(semestre[0])\n",
    "s1=int(semestre[1])\n",
    "s2=int(semestre[2])\n",
    "\n",
    "t0=np.arange(1,s0+1,1 )\n",
    "t=np.arange(1,5,1)\n",
    "t1=np.arange(1,s1+1,1 )\n",
    "t2=np.arange(1,s2+1,1 )\n",
    "\n",
    "notas0=(notasfloat[0:s0])\n",
    "notas1=((notasfloat[s0:s1+s0]))\n",
    "notas2=(notasfloat[s1+s0:s2+s1+s0])\n",
    "\n",
    "plt.figure(figsize=(10,4))\n",
    "plt.subplot(111)\n",
    "plt.plot(t0, notas0,'r--',label=nombre[0]) \n",
    "plt.plot(t1, notas1, 'bs',label=nombre[1])\n",
    "plt.plot(t2, notas2, 'g^',label=nombre[2] )\n",
    "plt.axis([0, 10, 0, 6])\n",
    "plt.legend()\n",
    "plt.show()\n",
    "names = ['1','2','3','4','5','6','7','8','9','10']\n",
    "\n",
    "plt.figure(figsize=(12,5))\n",
    "plt.subplot(231)\n",
    "plt.title(nombre[0])\n",
    "plt.bar(names[0:s0], notas0)\n",
    "plt.subplot(232)\n",
    "plt.title(nombre[1])\n",
    "plt.bar(names[0:s1], notas1)\n",
    "plt.subplot(233)\n",
    "plt.title(nombre[2])\n",
    "plt.bar(names[0:s2], notas2)\n",
    "plt.show()\n",
    "\n",
    "plt.figure(figsize=(9,5))\n",
    "plt.subplot(311)\n",
    "plt.title('Promedios acumulados')\n",
    "plt.bar(nombre[0:3],promedioacumulado)\n",
    "plt.show()\n",
    "\n",
    "\n",
    "    "
   ]
  },
  {
   "cell_type": "markdown",
   "metadata": {},
   "source": [
    "### TRABAJO:\n",
    "\n",
    "##### Escriba un programa donde:\n",
    "\n",
    "##### 1. Se ingrese el nombre, número de semestres cursados y notas de promedios de los diferentes semestres de los integrantes del equipo de laboratorio. \n",
    "\n",
    "##### 2. Se calcule el promedio acumulado de cada estudiante de acuerdo a los semestres cursados (deberá ser comparable a sus reportes del SAC).\n",
    "\n",
    "##### 3. Se impriman los datos en pantalla.\n",
    "\n",
    "##### 4. Se utilice un gráfico de líneas para indicar la tendencia de los promedios de los integrantes, indicando con diferentes colores y leyendas cada caso.\n",
    "\n",
    "##### 5. Debe generarse un gráfico de barras que permita comparar los resultados de los diferentes integrantes por semestre y a nivel acumulado.\n",
    "\n",
    "##### 6. El programa debe detectar errores en el tipo de datos ingresados por el usuario.\n",
    "\n",
    "##### 7. Debe presentarse un diagrama de flujo detallado del programa desarrollado.\n"
   ]
  },
  {
   "cell_type": "code",
   "execution_count": null,
   "metadata": {},
   "outputs": [],
   "source": []
  }
 ],
 "metadata": {
  "celltoolbar": "Attachments",
  "kernelspec": {
   "display_name": "Python 3",
   "language": "python",
   "name": "python3"
  },
  "language_info": {
   "codemirror_mode": {
    "name": "ipython",
    "version": 3
   },
   "file_extension": ".py",
   "mimetype": "text/x-python",
   "name": "python",
   "nbconvert_exporter": "python",
   "pygments_lexer": "ipython3",
   "version": "3.8.5"
  }
 },
 "nbformat": 4,
 "nbformat_minor": 2
}
