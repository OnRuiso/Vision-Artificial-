{
 "cells": [
  {
   "cell_type": "markdown",
   "metadata": {},
   "source": [
    "### TRABAJO:\n",
    "\n",
    "##### Genere un programa que realice una secuencia de adquisición de un número de imágenes seleccionado por el usuario, utilizando la cámara web. Las imágenes deben almacenarse en el equipo enumerándose automáticamente. Adicionalmente se debe realizar lo siguiente utilizando subplots:\n",
    "\n",
    "1. Mostrar las imágenes originales.\n",
    "2. Mostrar los histogramas de las diferentes imágenes originales.\n",
    "3. Mostrar los histogramas de cada una de las componentes de color de las diferentes imágenes.\n",
    "4. Muestre las imágenes en escala de grises.\n",
    "5. Realice una equalización adaptativa de las imágenes en escala de grises y muéstrelas.\n",
    "6. Presente los histogramas de las imágenes en escala de grises antes y después de la equalización adaptativa. Utilice un solo plano para visualizarlos y compararlos"
   ]
  },
  {
   "cell_type": "code",
   "execution_count": null,
   "metadata": {},
   "outputs": [],
   "source": [
    "import cv2\n",
    "import numpy as np\n",
    "from matplotlib import colors\n",
    "from matplotlib import pyplot as plt\n",
    "import glob\n",
    "from PIL import Image\n",
    "\n",
    "n=input('Ingrese el número de capturas que desea')\n",
    "N=int(n)\n",
    "\n",
    "cap = cv2.VideoCapture(0)\n",
    "plt.figure(figsize=(16,16))\n",
    "for k in range (N):\n",
    "    leido, frame = cap.read()\n",
    "    #Histograma\n",
    "    plt.subplot(6,N,N+k+1),plt.hist(frame.ravel(),256,[0,256])\n",
    "    #Escala de Grises\n",
    "    gris=cv2.cvtColor(frame,cv2.COLOR_BGR2GRAY)\n",
    "    plt.subplot(6,N,3*N+k+1),plt.imshow(gris,'gray')\n",
    "    plt.xticks([]), plt.yticks([])\n",
    "    #Ecualización\n",
    "    clahe=cv2.createCLAHE(clipLimit=5.0)\n",
    "    cl1=clahe.apply(gris)\n",
    "    plt.subplot(6,N,4*N+k+1),plt.imshow(cl1,'gray')\n",
    "    plt.xticks([]), plt.yticks([])\n",
    "    #Comparacion Histogramas\n",
    "    plt.subplot(6,N,5*N+k+1),plt.hist(gris.ravel(),256,[0,256]), plt.hist(cl1.ravel(),256,[0,256])\n",
    "    \n",
    "    #Histograma componente Color\n",
    "    color = ('b', 'g', 'r')\n",
    "    for j, col in enumerate(color):\n",
    "        histogram2 = cv2.calcHist([frame], [j], None, [256], [0, 256])\n",
    "        plt.subplot(6,N,2*N+k+1),plt.plot(histogram2, color = col)\n",
    "        plt.xlim([0,256])\n",
    "            \n",
    "    if k <N:\n",
    "        nombre= \"foto\"+str([k])+\".jpg\"\n",
    "        cv2.imwrite(nombre, frame)\n",
    "       \n",
    "for i in range (N):\n",
    "    img=\"foto\"+str([i])+\".jpg\"\n",
    "    imagen= Image.open(img)\n",
    "    plt.subplot(6,N,i+1), plt.imshow(imagen)\n",
    "    plt.xticks([]), plt.yticks([])\n",
    "    \n",
    "    \n"
   ]
  },
  {
   "cell_type": "code",
   "execution_count": null,
   "metadata": {},
   "outputs": [],
   "source": []
  }
 ],
 "metadata": {
  "kernelspec": {
   "display_name": "Python 3",
   "language": "python",
   "name": "python3"
  },
  "language_info": {
   "codemirror_mode": {
    "name": "ipython",
    "version": 3
   },
   "file_extension": ".py",
   "mimetype": "text/x-python",
   "name": "python",
   "nbconvert_exporter": "python",
   "pygments_lexer": "ipython3",
   "version": "3.8.5"
  }
 },
 "nbformat": 4,
 "nbformat_minor": 2
}
