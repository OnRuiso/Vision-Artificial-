{
 "cells": [
  {
   "cell_type": "markdown",
   "metadata": {},
   "source": [
    "# TRABAJO:\n",
    "\n",
    "##### Desarrolle un programa que permita variar gradualmente las componentes tricromáticas de una imagen para poder resaltar diferentes elementos de la misma, variando de esta manera una máscara mediante el uso de una barra de seguimiento o Trackbar. Resalte por lo menos tres objetos en la imagen y detecte los bordes de los mismos mediante operaciones morfológicas."
   ]
  },
  {
   "cell_type": "code",
   "execution_count": 1,
   "metadata": {},
   "outputs": [],
   "source": [
    "import cv2\n",
    "import numpy as np\n",
    "import matplotlib\n",
    "from matplotlib import colors\n",
    "from matplotlib import pyplot as plt\n",
    "\n",
    "def nothing(x):\n",
    "    pass\n",
    "\n",
    "imag = cv2.imread('numero2.PNG')\n",
    "\n",
    "scale = 1.5\n",
    "imag=cv2.resize(imag, None, fx=1./scale, fy=1./scale, interpolation=cv2.INTER_LANCZOS4)\n",
    "zeros = np.zeros(imag.shape[:2], dtype = \"uint8\")\n",
    "rgb=cv2.merge([zeros, zeros, zeros])\n",
    "imagefinal=cv2.merge([zeros, zeros, zeros])\n",
    "\n",
    "\n",
    "imagencolor=[]\n",
    "cv2.namedWindow('image')\n",
    "\n",
    "\n",
    "cv2.createTrackbar('R','image',0,255,nothing)\n",
    "cv2.createTrackbar('G','image',0,255,nothing)\n",
    "cv2.createTrackbar('B','image',0,255,nothing)\n",
    "cv2.createTrackbar('K','image',0,15,nothing)\n",
    "cv2.createTrackbar('rango','image',0,100,nothing)\n",
    "\n",
    "switch = '0 : OFF \\n1 : ON'\n",
    "cv2.createTrackbar(switch, 'image',0,1,nothing)\n",
    "\n",
    "while(1):\n",
    "    cv2.imshow('image',imag)\n",
    "    \n",
    "    k = cv2.waitKey(1) & 0xFF\n",
    "    if k == 27:\n",
    "        break\n",
    "\n",
    "    \n",
    "    r = cv2.getTrackbarPos('R','image')\n",
    "    g = cv2.getTrackbarPos('G','image')\n",
    "    b = cv2.getTrackbarPos('B','image')\n",
    "    s = cv2.getTrackbarPos(switch,'image')\n",
    "    k = cv2.getTrackbarPos('K','image')\n",
    "    rango = cv2.getTrackbarPos('rango','image')\n",
    "    if s==0:\n",
    "        pass\n",
    "    else:\n",
    "        rgb=[b,g,r]\n",
    "        imagefinal[:]=imag[:]+rgb[:]\n",
    "           \n",
    "        cv2.imshow('imagen',imagefinal)\n",
    "        lower_blue = np.array([b-rango,g-rango,r-rango])\n",
    "        upper_blue = np.array([b+rango,g+rango,r+rango])\n",
    "        mask = cv2.inRange(imag, lower_blue, upper_blue)\n",
    "        #cv2.imshow('mask', mask)\n",
    "        \n",
    "        kernel = np.ones((k,k), np.uint8)\n",
    "        dilation = cv2.dilate(mask, kernel, iterations = 1)\n",
    "        cv2.imshow('Dilation', dilation)\n",
    "        \n",
    "        closing = cv2.morphologyEx(mask, cv2.MORPH_CLOSE, kernel)\n",
    "        cv2.imshow('Closing', closing)\n",
    "        \n",
    "        Borde=dilation-closing\n",
    "        cv2.imshow('borde',Borde)\n",
    "cv2.destroyAllWindows()"
   ]
  },
  {
   "cell_type": "code",
   "execution_count": null,
   "metadata": {},
   "outputs": [],
   "source": []
  }
 ],
 "metadata": {
  "kernelspec": {
   "display_name": "Python 3",
   "language": "python",
   "name": "python3"
  },
  "language_info": {
   "codemirror_mode": {
    "name": "ipython",
    "version": 3
   },
   "file_extension": ".py",
   "mimetype": "text/x-python",
   "name": "python",
   "nbconvert_exporter": "python",
   "pygments_lexer": "ipython3",
   "version": "3.8.5"
  }
 },
 "nbformat": 4,
 "nbformat_minor": 4
}
